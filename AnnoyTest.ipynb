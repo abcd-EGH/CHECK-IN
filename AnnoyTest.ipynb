{
 "cells": [
  {
   "cell_type": "markdown",
   "metadata": {},
   "source": [
    "# Setting"
   ]
  },
  {
   "cell_type": "code",
   "execution_count": 1,
   "metadata": {},
   "outputs": [],
   "source": [
    "import sqlite3\n",
    "import mocov2_model\n",
    "import torch\n",
    "from torchvision import transforms\n",
    "from PIL import Image\n",
    "import numpy as np\n",
    "from sklearn.metrics.pairwise import cosine_similarity\n",
    "import os\n",
    "import time\n",
    "import csv\n",
    "from annoy import AnnoyIndex"
   ]
  },
  {
   "cell_type": "markdown",
   "metadata": {},
   "source": [
    "# Cosine Similarity가 가장 높은 이미지 찾기"
   ]
  },
  {
   "cell_type": "markdown",
   "metadata": {},
   "source": [
    "## 모든 특징 벡터 간 Cosine Similarity 계산"
   ]
  },
  {
   "cell_type": "markdown",
   "metadata": {},
   "source": [
    "## Test"
   ]
  },
  {
   "cell_type": "code",
   "execution_count": 13,
   "metadata": {},
   "outputs": [
    {
     "name": "stdout",
     "output_type": "stream",
     "text": [
      "(b'Xi\\xbc\\xbf\\xf0\\xf5]\\xbf\\x86e\\x8d\\xbe\\x18\\xae\\x87?U\\xd5\\x8d\\xbft\\x1e\\xbc>C9\\xa5<\\xa7\\x92\\xd8\\xbf\\x0c;W><\\xc49@C\\xe0\\x19@H\\x05\\xa4\\xbd(\\xde\\xb6\\xbe\\xb7\\x9f\\xb5>\\xfdO\\xf9?\\xac\\xff\\xe6\\xbfi\\nv?\\x92i\\x89?\\xc6u\\x96?\\x01\\xc1\\xa0\\xbf0\\x0b,\\xbf\\xa26\\xa8\\xbe\\xfb\\xcf\\xfd=\\x8e\\xee\\xde\\xbe\\x99\\x12x?M\\x0e\\xcc\\xbfTY\\x9e\\xbf\\x02\\x9f*\\xc0\\xd7\\xd0\\x03\\xc0\\xd9\\xe5\\xb2\\xbf\\x90\\x06\\xa1>\\xeddW=}\\xb2/\\xbfYe\\x87>b>\\xa5\\xbf\\xd2^\\x17\\xc0\\xd7\\xd4\\xc4\\xbf\"\\x80\\xd4=m\\x9c\\xf4?\\xd6\\xe4t\\xbfL\\xf7\\xa0=\\xe2\\xf7\\x95?\\xc7L\\x82\\xbf\\x07\\xcd\\x1f\\xc0Z\\x15\\x11@\\xd9\\xb6\\r\\xc0\\xbc\\x0b?@\\xa5Y\\'@\\xe7QG\\xc0\\x9e\\x9e\\x12\\xc0<\\xf8\\x84\\xbf\\xe2\\x9bx?x\\xb54\\xc0fk$\\xbf\\xdf\\x85\\xd1?NQ\\xf2\\xbf^\\t\\n@6\\xd5\\xc5?\\x85\\xf0\\t@F\\xf82>\\x80 \\x99?\\xef\\x0cp\\xbf@f\\x01?O\\xdaZ\\xbf\\x87\\xff\\x8a\\xbf\\x1c\\x82\\xe2>:\\xa2\\xd8>\\xf5\\xa1*\\xbf>\\x19?\\xbf:\\xb1\\xb6\\xbf\\x82@\\x9f\\xbf\\xa1\\xf2\\x11\\xc0\\xba\\x12S\\xbe\\xc5<\"@\\xdc\\x90U\\xc0\\x1f\\xa1.?\\x7fcP?[K\\xf4=\\x89r\\x82\\xbf:@\\x87\\xbf\\xe0z%\\xbe\\x12$\\xba\\xbf\\xe0|\\x9d\\xbf\\x9b\\x9df\\xbfH\\x91\\xdd\\xbf0k\\xf9>\\x0c\\xb3\\x98>s\\xb9\\x8a?\\xb4\\xcc7\\xc0Y\\xc0o\\xbf{\\x0b2?$ g?\\x85\\x1f\\x1d\\xbe\\x9b\\xb4\\xbe?\\xda\\xa3[?\\xb2\\x9d\\xe8?\\xf1\\x06D\\xbf\\xf6R\\xa6=@[x\\xbfb\\xe2\\xb1\\xbf=k\\x0e\\xbf\\x82F\\x04\\xc0\\xe7[\\xcb>\\x9c\\x99\\xae=\\r\\xd9$?\\xa3\\xf9\\xd1?\\x19\\x82\\x82?|\\xfc\\xeb<\\xbbT\\x04@\\xbfO\\xd6?\\x8a\\x19\\xd8\\xbf\\xa7 9\\xbe)zP\\xbf[\\xf3\\x16?\\xba`\\x11\\xbf@\"\\x89?\\x03\\x11\\x82\\xbf\\\\\\xf3\\x9b>\\x18\\x842@\\xd55\\xda\\xbf\\xc0SX\\xbfm\\xda\\x00?|\\xe5\\xd3\\xbfq\"R\\xbf\\xae\\x92K\\xbf\\x1b\\xa3\\xb7\\xbf)/Q?\\xb4\\xf1\\xd8?',)\n",
      "(b'kvv@\\xb9_\\xee>\\xfbt[\\xbfy\\x88\\x8b?\\x98\\xc2B\\xbf,\\xc7\\x18\\xbe\\x84I\\x15@wY\\xe8\\xbfU\\x08\\xdc\\xbf\\xef\\x1d5\\xbf\\x12\\x8e\\x82=\\x88\\xf2\\xd2\\xbe\\xc3\\xe0\\x9b\\xbfHV\\xc8\\xbe\\x81Z)\\xc0\\xa6`1?k\\x94\\x95>V\\xee\\xc5=X*\\\\\\xbfS\\xdb\\x96\\xbfa\\x8b=@f\\xf2\\xa1\\xbfW\\xcb\\xd6\\xbf\\x91\\xd86?#%\\xbc?\\x192L?\\xc0%\\xb9\\xben\\x8b!\\xbf\\x84))?9g\\x1e\\xbf\\xb9\\xbcg\\xbf\\xbd\\xb5\\x99?\\xc3?@?S\\x14\\x1e?\\xaf\\x9b\\x1f?\\xf9\\x00\\x97\\xbf\\x9b\\xa3\\xa4?\\x96=\\x0e\\xc08\\x1d\\xca?\\x15B\\xdf?U\\x10u\\xbeM\\xaf\\xd3\\xbe_\\xbaI?\\x00\\x19\\'@\\xfa\\xad\\x13\\xc0Z\\x93\\x16@|Hy\\xbf\\x99\\x08\\x85\\xc0)\\xeb\\x1d@\\x13\\x11&@\\x1e\\xea\\xc3>\\x8f\\x99E?\\x82\\x9f\\x80@\\xb5i\\x10\\xbf]*\\xb9\\xbfE\\x85\\x80?|\\x17\\xc9\\xbf\\xc3\\x02\\x10\\xben\\x98\\xc8=2\\x88\\xb8?\\x0b\\x07\\xe8>|\\x00c?\\xaf9\\x17\\xbf:\\xa6\\xf7?\\x0e\\xad\\x1d\\xbf\\xdb|\\xe1\\xbf\\x1f:\\xde\\xbfT\\xdcp\\xbf\\x82\\x94\\xdb=H\\x85,@\\xafk\\x00@\\xb6\\x12:@5\\xba\\xbc\\xbe\\xe1I9\\xbfD\\xba\\xf3\\xbe\\xb0\\x0fi\\xbf\\x86\\xd0g?\\x9c\\x19w\\xbf\\x18\\xb4\\x10>}LI?\\xf0\\xe8\\xd5\\xbf\\xb2\\x99K@\\xd7\\xe5\\x03@\\xa8\\x8d\\xae\\xbe\\xbctp\\xbe%H\\r\\xc0\\xcc\\xf7\\xf9\\xbb\\xc5V\\x14\\xbfv\\x9b\\x1f?H,\\x9d>\\x025\\x86\\xbfV(\\x83\\xbf\\x90\\xa3\\xa6>x\\x8d\\x8f?C/0\\xbe\\xf8\\xce\\x14?\\x12>\\x11?\\xb9\\x96\\x1d\\xbf\\x8b\\xb1\\x13@#\\xa0@?\\x10\\x88\\x8c\\xbf\\x8e\\x17\\x8e?/\\x0b\\r@\\xe0\\xc9\\xab\\xbf\\xd9\\x03R\\xbf\\x94\\x03\\xc7>\\xe7\\xfc\\xb8\\xbf\\x87c\\xc6>O\\xfc\\x9f\\xbf\\x07\\xc6\\xf0?\\xe2\\x137@\\t\\x15\\x80>7\\xc0\\x06\\xbc#O\\xc1\\xbf\\xa4\\xff\\xf2?bx\\xd5\\xbf\\xd9\\xbf\\xa0?1G\\x98\\xbe\\xfc\\xd1o\\xbf\\x13\\xea\\xd8?\\x12\\x02\\xb0\\xbe\\xd6\\x92\\xe7\\xbf\\xa3d<?\\xde_i\\xbf\\x9bq\\x89?\\xf9\\x08\"?\\xf3\\xaa\"@#\\xb6\\xc1>',)\n",
      "(b'&\\xf3\\xe6\\xbf\\xecz\\xf9?\\xc6EH?4\\xf3\\xa8\\xbf8\\xa8\\xd1\\xbe\\xaa\\xff\\xea?s\\x14\\x8e?\\x05\\x0f\\x94\\xbf\\xd7\\xc7\\xc6>\\x94]A\\xbf<\\x13\\xb0?\\xefL\\x13\\xbf\\xf7\\xfc\"@QY\\xc5\\xbe9M\\x0e@\\x03LB\\xbf~\\x8e}?7\\xc7\\xf6\\xbf)\\xcb\\xaf\\xbe\\xe4\\xe3\\xaf>\\x00\\xb4\\t\\xbf\\xd6\\xb7\\x08\\xc08(w\\xbc\\x87\\x1ck?\\xa1\\xf4T@k\\x19\\x14?M\\xa9\"\\xc03\\xf4\\x1c\\xc0\\xdd\\xa9\\x8c\\xbf\\xb2\\x1c\\x13>\\x19\\x15Y\\xbfM\\xd8\\x13\\xc0#\\xbc\\x1f?\\xe6\\xb4\\xe1?j\\xb0\\xd6>\\xf7`\\xc5?5\\x15(?\\xdfXK\\xbfBs\\x89>n;\\x1f\\xc0\\t\\xa9\\x9d>\\xf4\\xad\\x05?M\\x00U\\xbf\\xcd\\xf9\\xd1\\xbf\\x07\\xb2\\x97\\xbf1@\\xbd=\\xc5\\xb7K\\xbf\\x8c\\xea\\x80@\\x97\\xa3\\xa3\\xbe\\xec\\x06w>J\\xf2x?\\x8fd\\xa6?jp\\xe3\\xbfXMN\\xbf~j\\x13\\xc0\\x1e\\xe0Z\\xbf\\x88vf?\\x9c1\\x01@\\xc08\\x89\\xbf$\\x85\\xc2\\xbfk\\xde\\'\\xbf\\x05\\xb5\\x17\\xc0G\\xb0B\\xbe\\xc6\\xf9\\x1d?5\\xce\\x14\\xbe\\xab\\x08r\\xbfQNG?\\x86\\xcc\\xaf?\\xcd\\x9c\\xdc\\xbf\\xff\\xcb\\xfc\\xbf\\xb1\\xbf\\n@\\x9cF\\xdb\\xbf\\xe9\\x0b\\x9e\\xbe\\xdf\\xc5\\x82@\\xd2Y\\xe3\\xbeO\\x10\\x0e\\xbf\\x84W\\r?\\xfd\\xb7V@\\x84@\\xb4=\\xaa\\xc29\\xc0\\xb3\\x06\\xcf\\xbe\\xbd\\xc88\\xc0\\xb7\\x0fx\\xbf\\xe4~\\x84\\xbf\\xe7\\xb5t\\xbd$\\xef\\xa8?\\xa8\\xaf1@\\x17\\xf1\\xa7?\\xdd\\x12\\xa2\\xbf#\\xf7\\xdc\\xbe\\xcd\\xdeq@\\xc6\\xe6\\xf5\\xbfo\\xf1\\xec\\xbe\\xce\\x89\\xb6\\xbd\\xde\\x88+\\xc0\\x1d\\x8a\\x1a@\\x80?\\xd4\\xbf\\xa4D\\xaa\\xbf\\xd6\\x9bJ\\xbfNP\\xc8\\xbe\\xcd\\x1bK?\\x89\\x0e\\x10\\xbf\\x8d\\x0b\\xc7?\\xd4}\\xdd\\xbf\\x82_\\x88\\xbf\\x0c+\\x9e\\xbf H\\x08\\xbf\\x1b\\xa3\\xb6?\\xef\\xe2\\x0e?A\\n\\xe9\\xbf\\xdfy\\xba\\xbf\\x00\\xc0\\xf1\\xb7f}m\\xbdAZR?\\xd3\\x89^\\xbf=o\\xc3\\xbf\\xef\\xd2Q?\\xe9\\xfc\\x04\\xbf\\xb8R\\x14@-3\\xdf\\xbf\\x16o5\\xbf\\x91T\\xd0\\xbf\\x1f\\xbe\\x1f\\xc0~\\xfb9?w_\\x9b\\xbf\\xe2=\\xdb?\\xfd\\xc1^?\\xc9\\x94\\xec\\xbf',)\n",
      "(b'\\xb0\\xbd^\\xbel\\xc6\\xb6\\xbf\\xfd{\\xc8\\xbfFm??ai\\xa1?:r\\xf4\\xbf\\xde\\x1f\\'?\\x94V\\x9f?b`\"?M\\x8a\\x14?7`K?Xw\\xf1>)\\x11L\\xbfv\\xed]>w\\x17;?\\xeb`K?VF-?\\x12\\x809?o\\xbf\\xb8?\\xbc\\\\\\x9e\\xbf\\xce\\xfb\\x81\\xbf\\xcd\\xac\\xdf?\\x94q\\xd4?wX/\\xbf\\xd2P\\x10\\xbf\\x97\\xccc\\xbf\\x8f\\x8a\\x8d?# \\x84>J*j?cI\\xd0?2\\x9c\\xf2>.\\x893>\\x0bI\\\\\\xbf\\x1f\\xff\\xba\\xbfg\\x82\\x9d?Xs\\xde\\xbfd\\x88\\xe8\\xbb\\xdes\\xfb<\\x00z\\xcc\\xbdZi\\x90\\xbdy\\x8d\\xcd\\xbe\\x87$\\\\\\xbdw\\xa9\\x08?\\xbd\\xd1\\xca\\xbf\\xe9\\x10\\x88?\\x1c\\x02.\\xc0\\xd8\\x9a\\xed>=b\\xb8\\xbf\\xd5\\x81\\x85\\xbfO\\xffb\\xbf\\x00Qv\\xbe$K\\xde\\xbf.{\\xde\\xbeK\\xc6\\xfc?b\\x81#@[\\x1b\\xb7?\\xd0\\xdf\\x9e?\\xe5\\x80\\x8e?w\\xfb}\\xbf\\x7f\\x1e\\xbd\\xbe\\x89E\\x9e>\\x99L\\xb2?!\\xdc\\xa0\\xbe\\x9c\\xb3\\xda\\xbf\\xf0\"d?\\x9e\\xbf\\x8b>+\\xd1\\n?<\\xc6V>1y~\\xbf\\x88=M>\\x88\\xf8\\xc3\\xbf\\xf1U\\x92\\xbf/\\xa1\\xd4?\\xba\\x0cB\\xbf\\x179\\x15?Y\\xf1(\\xbeh\\xe08\\xbf\\x87\\x08d\\xbfWe\\xc9\\xbe\\xcc\\xfeW=\\xea&\\xb4?\\xcdGx\\xbf;\\xdf\\xca\\xbeB\\xc1\\x1e\\xbeE\\xde3\\xbfJ\\x0c\\xb4>\\x8a!d\\xbd\\xf8\\xc27?\\x19\\x9a\\x95\\xbe\\x10R\\xf9\\xbe\\xad\\xf10\\xbfi\\x84\\x0f?\\xc5\\x04u?|\\n\\xd3\\xbf(\\x0c\\xe8?\\x06D\\x87\\xbf\\x1a\\xdc\\x86?U\\'\\xaa\\xbd\\x0c\\\\\\x03=\\xa6\\xc2\\xac>M\\x82=?\\xf5d\\x8f>s}\\xc8\\xbf\\xff\\xe8\\x07@\\xe1\\xba\\x1e\\xbf\"\\xa6&\\xbf;\\xcc\\xce?z/\\x8b\\xbf\\x90\\x7f\\xb1?\\xbbjL><a\\xc5\\xbfl?]>\\xce\\xf1N\\xbd\\xc7\\x95\\x92>\\xf6P\\xfd>\\x0f\\xc7O\\xbd\\x83\\r`\\xbf}\\xb1\\x90?\\xf4u\\x13?dz\\xdf\\xbd\\xc0\\xa6l>\\xa2\\x1d\\x87?\\xa7\\xc9<\\xbf\\xbc\\x0e\\xaf\\xbel\\xd9\\x1b?\\xc8t\\xb4\\xbf\\xeeK\\xa5\\xbe\\xd7\\x80\\xef?',)\n",
      "(b'\\x03\\xed\\xc9\\xbfR\\xf6\\xf5?\\xddD?@\\xb4[\\xc1\\xbe\\xdc\\x84\\x02\\xbf\\xf5\\xb4a\\xbf\\x91WL\\xc0\\xb4\\xf0\\xd8=\\x0b\\xde#?\\xb2\\'\\xc2\\xbf\\x08\\x1d\\x91?\\xc0\\xfe\\x9a?\\xad@\\x05@%\\xd9a?\\xb1|\\xf7?`\\x02\\xa9>u\\xbc\\x17\\xbf\\x19\\xc8b\\xbf]\\xa9\\n\\xbe9\\xc2\\xdf>C\\x04-\\xbf\\xf3\\xc5.@t|%@\\xd2\\xd5\\x19\\xbf\\xde\\xc6-\\xc0e\\x0e\"?\\xc7\\x9f6?\\xf5s\\x03@\\xc4\\xc8\\x8b>0\\xc3\\xfb=\\'\\x8b\\x80\\xbe\\x7f\\xba\\\\\\xbf\\xac\\xce\\x84\\xbe\\xe1\\x16\\x1c\\xbe s\\x08\\xbe\\xf3\\xfe\\xeb?\\xf2t}\\xbf\\x1cT\\xa6?Z\\x99\\x87\\xc0\\xc1q\\x8b\\xbf\\xb4\\xc0\\x9f?:\\x14\\xde\\xbe\\xb7\\xad\\x84>*\\x9fa\\xbd\\xbaf\\x1f@<}\\xa2?\\x02\\x12t=\\xda\\xad\\x13@\\x17\\xe0\\xbc=\\x03\\xc7\\xa6\\xbc\\xac\\x9f\\xa8\\xbe\\xec\\x9aX\\xbfa\\xc6r\\xc0\\xba\\x9d\\x1b?\\xf2\\x0f~?Cp\\xa0=\\x07\\xb0\\xfe?|\\xeb-?i\\xc8i\\xbf\\xbd4_\\xc0\\xce9\\xd8\\xbf\\x98\\xcd\\xab\\xbf\\xe6\\x06\\xae>\\xd2\\xeb\\xf0\\xbeP\\xb2\\xe9\\xbeSC\\xa7?\\xa0\\x07#?\\xc0K\\x17?8>k\\xbfA\\xcb\\x07\\xc0([\\xac\\xbf\\xdf\\xdb\\xb5\\xbf\\x90\\x04\\xad?\\x85Z\\x08>\\xe0(\\x9a?\\xcb\\xb8\\xd2?\\x1a>:?\\xb4\\xd8\\xb5?\\x1a\\x9b\\x17?\\x1f)\\xbc\\xbf\\xc0\\xe0\\xc7?\\x0cr^\\xc0\\xca\\x89:\\xbe\\xd51\\x07@q?d\\xbe\\x82\\x99\\xa7?\\xceA\\x8a\\xbf\\x14f\\x05\\xbe\\xfe\\xac\\xd6<\\xe9\\xbe\\x06@\\x0c\\x02\\x8b?\\xfd\\x0f;>\\x8bVI\\xbe4\\xfd]\\xbf\\xa5\\x15\\x87>gR\\xab\\xbf\\x1cY\\xe4\\xbfX\\xab.>\\xd3&\\x16\\xc0ZPB\\xbd\\'\\xeb\\xd0\\xbfs\\xb1\\xcc\\xbf\\x83\\xf4\\xb7\\xbf\\xf0\\xdc4@\\xd0\\xfe\\x8d?\\xb1\\xa7\\x80?\\xf8\\xe5\\x18@d\\xea\\x84?\\xe4v\\x10?\\xbb\\x9e\\xce\\xbe\\x90\\x1a\\t\\xc0V\\x9fh\\xbf\\xd3c\\xa3\\xbf\"\\x89\\x04@\\xce\\xa4\\x98\\xbf\\x1d\\xc4b?\\xcbe$\\xbe\\xe2B\\xdc?7\\x1d\\xc4\\xbd{:\\x80?\\xe0\\xad&?\\x9a\\xa4\\xab?\\xff\\xd7\\x17\\xc0;V\\x02?\\xbf\\'?\\xbfU\\x8e\\xb2?[\\xa7\\xd9\\xbf\\xe5\\xb0\\x01\\xc0',)\n"
     ]
    }
   ],
   "source": [
    "conn = sqlite3.connect('Image_db_final.db')\n",
    "cur = conn.cursor()\n",
    "\n",
    "cur.execute('''\n",
    "SELECT feature_vector FROM IMAGE LIMIT 5\n",
    "''')\n",
    "\n",
    "rows = cur.fetchall()\n",
    "\n",
    "conn.commit()\n",
    "for row in rows:\n",
    "    print(row)"
   ]
  },
  {
   "cell_type": "markdown",
   "metadata": {},
   "source": [
    "## Initialization"
   ]
  },
  {
   "cell_type": "code",
   "execution_count": 2,
   "metadata": {},
   "outputs": [],
   "source": [
    "# 모델, db RGB 채널 평균 & 표준편차 로드\n",
    "device = torch.device(\"cuda\" if torch.cuda.is_available() else \"cpu\")\n",
    "model, (mean_, std_) = mocov2_model.load_model(model_path='./mocov2_best_model_231216.pth', mean_std_path='./dataset_mean_std.pkl', train=False)\n",
    "model = model.to(device)\n",
    "model.eval()\n",
    "\n",
    "# 이미지 변환 정의\n",
    "test_transform = transforms.Compose([\n",
    "    transforms.Resize((224, 224)),\n",
    "    transforms.ToTensor(),\n",
    "    transforms.Normalize(mean_, std_),\n",
    "])\n",
    "\n",
    "# db path 정의\n",
    "db_path = './Image_db_final.db'"
   ]
  },
  {
   "cell_type": "markdown",
   "metadata": {},
   "source": [
    "## Calculate Cosine Similarity"
   ]
  },
  {
   "cell_type": "code",
   "execution_count": 3,
   "metadata": {},
   "outputs": [],
   "source": [
    "def fetch_feature_vectors(db_path, table_name):\n",
    "    conn = sqlite3.connect(db_path)\n",
    "    cursor = conn.cursor()\n",
    "    cursor.execute(f\"SELECT id, feature_vector FROM {table_name}\")\n",
    "    data = cursor.fetchall()\n",
    "    conn.close()\n",
    "    return data\n",
    "\n",
    "def calculate_cosine_similarity(vector1, vector2):\n",
    "    vector1 = np.array(vector1).reshape(1, -1)\n",
    "    vector2 = np.array(vector2).reshape(1, -1)\n",
    "    similarity = cosine_similarity(vector1, vector2)\n",
    "    return similarity[0][0]\n",
    "\n",
    "def extract_feature_vector(image_path, model, transform, device):\n",
    "    # 이미지 로드\n",
    "    image = Image.open(image_path).convert('RGB')\n",
    "    \n",
    "    # 이미지 변환\n",
    "    image = transform(image)\n",
    "    \n",
    "    # 배치 차원 추가\n",
    "    image = image.unsqueeze(0).to(device)\n",
    "    \n",
    "    # 특징 벡터 추출\n",
    "    with torch.no_grad():\n",
    "        feature_vector = model(image)\n",
    "    \n",
    "    # GPU에서 CPU로 이동 및 Numpy 배열로 변환\n",
    "    feature_vector = feature_vector.cpu().numpy().flatten()\n",
    "    \n",
    "    return feature_vector\n",
    "\n",
    "def calculate_and_store_similarities(image_folder, db_path, table_name, model, transform, output_csv, device):\n",
    "    # 데이터베이스에서 저장된 특징 벡터 가져오기\n",
    "    data = fetch_feature_vectors(db_path, table_name)\n",
    "    \n",
    "    # CSV 파일을 덮어쓰는 모드로 열어 기존 내용을 비움\n",
    "    with open(output_csv, mode='w', newline='') as file:\n",
    "        writer = csv.DictWriter(file, fieldnames=['image_name', 'db_row_ids', 'time_elapsed'])\n",
    "        writer.writeheader()\n",
    "    \n",
    "    for image_name in os.listdir(image_folder):\n",
    "        image_path = os.path.join(image_folder, image_name)\n",
    "        \n",
    "        if not os.path.isfile(image_path):\n",
    "            continue\n",
    "        \n",
    "        start_time = time.time()\n",
    "        \n",
    "        # 주어진 이미지에서 특징 벡터 추출\n",
    "        target_vector = extract_feature_vector(image_path, model, transform, device)\n",
    "        \n",
    "        similarities = []\n",
    "        \n",
    "        for row in data:\n",
    "            row_id = row[0]\n",
    "            stored_vector = np.frombuffer(row[1], dtype=np.float32)\n",
    "            similarity = calculate_cosine_similarity(target_vector, stored_vector)\n",
    "            similarities.append((row_id, similarity))\n",
    "        \n",
    "        # 코사인 유사도 값 기준으로 정렬\n",
    "        similarities.sort(key=lambda x: x[1], reverse=True)\n",
    "        \n",
    "        # 상위 10개 결과 저장\n",
    "        top_10_similarities = similarities[:10]\n",
    "        elapsed_time = time.time() - start_time\n",
    "        \n",
    "        db_row_ids = \",\".join([str(row_id) for row_id, _ in top_10_similarities])\n",
    "        \n",
    "        with open(output_csv, mode='a', newline='') as file:\n",
    "            writer = csv.DictWriter(file, fieldnames=['image_name', 'db_row_ids', 'time_elapsed'])\n",
    "            writer.writerow({\n",
    "                'image_name': image_name,\n",
    "                'db_row_ids': db_row_ids,\n",
    "                'time_elapsed': elapsed_time\n",
    "            })"
   ]
  },
  {
   "cell_type": "markdown",
   "metadata": {},
   "source": [
    "## Test with my images"
   ]
  },
  {
   "cell_type": "code",
   "execution_count": 22,
   "metadata": {},
   "outputs": [],
   "source": [
    "# 사용 예시\n",
    "db_path = './Image_db_final.db'\n",
    "table_name = 'IMAGE'\n",
    "image_folder = './ImagesForAnnoyTest'\n",
    "output_csv = 'cosine_similarity_results.csv'\n",
    "\n",
    "# 모델과 변환값 불러오기\n",
    "model, (mean_, std_) = mocov2_model.load_model(model_path='./mocov2_best_model_231216.pth', mean_std_path='./dataset_mean_std.pkl', train=False)\n",
    "model = model.to(device)\n",
    "model.eval()\n",
    "\n",
    "# 이미지 변환 정의\n",
    "test_transform = transforms.Compose([\n",
    "    transforms.Resize((224, 224)),\n",
    "    transforms.ToTensor(),\n",
    "    transforms.Normalize(mean_, std_),\n",
    "])\n",
    "\n",
    "calculate_and_store_similarities(image_folder, db_path, table_name, model, test_transform, output_csv, device)"
   ]
  },
  {
   "cell_type": "markdown",
   "metadata": {},
   "source": [
    "# Annoy"
   ]
  },
  {
   "cell_type": "code",
   "execution_count": 3,
   "metadata": {},
   "outputs": [],
   "source": [
    "# 특징 벡터의 차원\n",
    "f = 128\n",
    "\n",
    "# Annoy 인덱스 생성\n",
    "db_path = './Image_db_final.db'\n",
    "annoy_index = AnnoyIndex(f, 'angular')\n",
    "conn = sqlite3.connect(db_path)\n",
    "cursor = conn.cursor()\n",
    "\n",
    "# 특징 벡터 가져오기\n",
    "cursor.execute('SELECT id, feature_vector FROM IMAGE')\n",
    "\n",
    "# 특징 벡터를 ANN 인덱스에 추가\n",
    "for row in cursor:\n",
    "    id, feature_vector = row\n",
    "    feature_vector = np.frombuffer(feature_vector, dtype=np.float32)\n",
    "    annoy_index.add_item(id, feature_vector)\n",
    "\n",
    "annoy_index.build(20)\n",
    "annoy_index.save('./annoy_index_for_test.ann')\n",
    "\n",
    "conn.close()"
   ]
  },
  {
   "cell_type": "markdown",
   "metadata": {},
   "source": [
    "## Test for one image with Annoy"
   ]
  },
  {
   "cell_type": "code",
   "execution_count": 4,
   "metadata": {},
   "outputs": [],
   "source": [
    "# 한 이미지에서 추출한 특징 벡터와 가장 유사할 확률이 높은 이미지 id 찾기\n",
    "\n",
    "# 이미지 path\n",
    "image_path = './ImagesForAnnoyTest/test1.jpg'\n",
    "\n",
    "# 모델과 변환값 불러오기\n",
    "model, (mean_, std_) = mocov2_model.load_model(model_path='./mocov2_best_model_231216.pth', mean_std_path='./dataset_mean_std.pkl', train=False)\n",
    "model = model.to(device)\n",
    "model.eval()\n",
    "\n",
    "# 이미지 변환 정의\n",
    "test_transform = transforms.Compose([\n",
    "    transforms.Resize((224, 224)),\n",
    "    transforms.ToTensor(),\n",
    "    transforms.Normalize(mean_, std_),\n",
    "])\n",
    "\n",
    "# 이미지 변환 및 특징 벡터 추출\n",
    "target_vector = extract_feature_vector(image_path, model, test_transform, device)"
   ]
  },
  {
   "cell_type": "code",
   "execution_count": 7,
   "metadata": {},
   "outputs": [],
   "source": [
    "f = 128  # 특징 벡터의 차원\n",
    "t = AnnoyIndex(f, 'angular')\n",
    "t.load('./annoy_index_for_test.ann')  # 인덱스 파일이 저장된 경로로 수정\n",
    "n = 10 # 상위 n개\n",
    "nearest_ids = t.get_nns_by_vector(target_vector.reshape(-1), n) # 가장 유사할 확률이 높은 이미지 id를 list로 저장"
   ]
  },
  {
   "cell_type": "code",
   "execution_count": 8,
   "metadata": {},
   "outputs": [
    {
     "data": {
      "text/plain": [
       "[32882, 113783, 35132, 57622, 47214, 41673, 35545, 164223, 67947, 61965]"
      ]
     },
     "execution_count": 8,
     "metadata": {},
     "output_type": "execute_result"
    }
   ],
   "source": [
    "# result\n",
    "nearest_ids"
   ]
  }
 ],
 "metadata": {
  "kernelspec": {
   "display_name": "ml_env",
   "language": "python",
   "name": "python3"
  },
  "language_info": {
   "codemirror_mode": {
    "name": "ipython",
    "version": 3
   },
   "file_extension": ".py",
   "mimetype": "text/x-python",
   "name": "python",
   "nbconvert_exporter": "python",
   "pygments_lexer": "ipython3",
   "version": "3.11.5"
  }
 },
 "nbformat": 4,
 "nbformat_minor": 2
}
